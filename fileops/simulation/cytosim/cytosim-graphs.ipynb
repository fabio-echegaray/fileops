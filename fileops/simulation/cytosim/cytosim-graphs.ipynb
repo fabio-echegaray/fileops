{
 "cells": [
  {
   "cell_type": "code",
   "execution_count": null,
   "id": "4670aa10",
   "metadata": {},
   "outputs": [],
   "source": [
    "import os\n",
    "import datetime\n",
    "\n",
    "import numpy as np\n",
    "import pandas as pd\n",
    "\n",
    "%matplotlib notebook\n",
    "import matplotlib.pyplot as plt\n",
    "import seaborn as sns\n"
   ]
  },
  {
   "cell_type": "code",
   "execution_count": null,
   "id": "7bd7cdd3",
   "metadata": {},
   "outputs": [],
   "source": [
    "cytosim_fld = '/media/lab/Data/Fabio/Dev/Python-actomyosin-furrows/cytosim/'\n",
    "df = (pd.read_csv(cytosim_fld + 'actomyosin_sweep/actomyosin_treadmill.csv', skipinitialspace=True)\n",
    "      .drop(columns='n')\n",
    "     )\n",
    "df['run'] = df['file'].apply(lambda r: 'run' + r.split('.')[0][-4:])\n",
    "\n",
    "df"
   ]
  },
  {
   "cell_type": "code",
   "execution_count": null,
   "id": "8fb9dc75",
   "metadata": {},
   "outputs": [],
   "source": [
    "import imageio\n",
    "\n",
    "# report values in kilo units\n",
    "df['N_fil'] /= 1000.0 \n",
    "df['N_crs'] /= 1000.0 \n",
    "df['N_myo'] /= 1000.0 \n",
    "\n",
    "condition0 = sorted(df['N_fil'].unique())\n",
    "condition1 = sorted(df['N_crs'].unique())\n",
    "condition2 = sorted(df['N_myo'].unique())\n",
    "# print([condition0, condition1, condition2])\n",
    "\n",
    "# build dataframe of last image given condition coordinates\n",
    "for c0 in condition0:\n",
    "    T = []\n",
    "    for c1 in condition1:\n",
    "        for c2 in condition2:\n",
    "            r = df.query('N_fil==@c0 and N_crs==@c1 and N_myo==@c2')\n",
    "            im_path = f\"{cytosim_fld}actomyosin_sweep/treadmill/{r['run'].values[0]}/image1000.png\"\n",
    "            T.append({'crs':c1,\n",
    "                      'myo':c2,\n",
    "                      'picture':imageio.imread(im_path),\n",
    "                      })\n",
    "    ph = pd.DataFrame(T)\n",
    "    \n",
    "    grid = sns.FacetGrid(ph, row='crs', col='myo', height=1, aspect=1, margin_titles=True, despine=True)\n",
    "    grid.map(lambda x, **kwargs : (plt.imshow(x.values[0]),plt.grid(False)), 'picture')\n",
    "    grid.set_xlabels(\"\")\n",
    "    grid.set(xticks=[], yticks=[])\n",
    "    grid.set_titles(row_template=\"{row_var} {row_name}k\", col_template=\"{col_var} {col_name}k\")\n",
    "    grid.fig.suptitle(f\"{int(c0*1000)} filaments\")\n",
    "    grid.tight_layout()\n",
    "    grid.fig.subplots_adjust(wspace=0, hspace=0)\n",
    "    grid.savefig(f\"f{int(c0*1000):05d}-c{int(c1*1000):05d}-m{int(c2*1000):05d}.pdf\")\n"
   ]
  },
  {
   "cell_type": "code",
   "execution_count": null,
   "id": "f0aa9dc1",
   "metadata": {},
   "outputs": [],
   "source": []
  }
 ],
 "metadata": {
  "kernelspec": {
   "display_name": "Python 3 (ipykernel)",
   "language": "python",
   "name": "python3"
  },
  "language_info": {
   "codemirror_mode": {
    "name": "ipython",
    "version": 3
   },
   "file_extension": ".py",
   "mimetype": "text/x-python",
   "name": "python",
   "nbconvert_exporter": "python",
   "pygments_lexer": "ipython3",
   "version": "3.8.10"
  }
 },
 "nbformat": 4,
 "nbformat_minor": 5
}
